{
 "cells": [
  {
   "cell_type": "markdown",
   "metadata": {},
   "source": [
    "# post_process\n",
    "\n",
    "> Make submission dataframe for segmentation task"
   ]
  },
  {
   "cell_type": "code",
   "execution_count": null,
   "metadata": {},
   "outputs": [],
   "source": [
    "#| default_exp utils.post_process"
   ]
  },
  {
   "cell_type": "code",
   "execution_count": null,
   "metadata": {},
   "outputs": [],
   "source": [
    "#| hide\n",
    "from nbdev.showdoc import *"
   ]
  },
  {
   "cell_type": "code",
   "execution_count": null,
   "metadata": {},
   "outputs": [
    {
     "name": "stderr",
     "output_type": "stream",
     "text": [
      "/opt/conda/lib/python3.10/site-packages/scipy/__init__.py:146: UserWarning: A NumPy version >=1.16.5 and <1.23.0 is required for this version of SciPy (detected version 1.24.3\n",
      "  warnings.warn(f\"A NumPy version >={np_minversion} and <{np_maxversion}\"\n"
     ]
    }
   ],
   "source": [
    "#| export\n",
    "import numpy as np\n",
    "import polars as pl\n",
    "from scipy.signal import find_peaks\n",
    "\n",
    "\n",
    "def post_process_for_seg(\n",
    "    keys: list[str], preds: np.ndarray, score_th: float = 0.01, distance: int = 5000\n",
    ") -> pl.DataFrame:\n",
    "    \"\"\"make submission dataframe for segmentation task\n",
    "\n",
    "    Args:\n",
    "        keys (list[str]): list of keys. key is \"{series_id}_{chunk_id}\"\n",
    "        preds (np.ndarray): (num_series * num_chunks, duration, 2)\n",
    "        score_th (float, optional): threshold for score. Defaults to 0.5.\n",
    "\n",
    "    Returns:\n",
    "        pl.DataFrame: submission dataframe\n",
    "    \"\"\"\n",
    "    series_ids = np.array(list(map(lambda x: x.split(\"_\")[0], keys)))\n",
    "    unique_series_ids = np.unique(series_ids)\n",
    "\n",
    "    records = []\n",
    "    for series_id in unique_series_ids:\n",
    "        series_idx = np.where(series_ids == series_id)[0]\n",
    "        this_series_preds = preds[series_idx].reshape(-1, 2)\n",
    "\n",
    "        for i, event_name in enumerate([\"onset\", \"wakeup\"]):\n",
    "            this_event_preds = this_series_preds[:, i]\n",
    "            steps = find_peaks(this_event_preds, height=score_th, distance=distance)[0]\n",
    "            scores = this_event_preds[steps]\n",
    "\n",
    "            for step, score in zip(steps, scores):\n",
    "                records.append(\n",
    "                    {\n",
    "                        \"series_id\": series_id,\n",
    "                        \"step\": step,\n",
    "                        \"event\": event_name,\n",
    "                        \"score\": score,\n",
    "                    }\n",
    "                )\n",
    "\n",
    "    if len(records) == 0:  # 一つも予測がない場合はdummyを入れる\n",
    "        records.append(\n",
    "            {\n",
    "                \"series_id\": series_id,\n",
    "                \"step\": 0,\n",
    "                \"event\": \"onset\",\n",
    "                \"score\": 0,\n",
    "            }\n",
    "        )\n",
    "\n",
    "    sub_df = pl.DataFrame(records).sort(by=[\"series_id\", \"step\"])\n",
    "    row_ids = pl.Series(name=\"row_id\", values=np.arange(len(sub_df)))\n",
    "    sub_df = sub_df.with_columns(row_ids).select([\"row_id\", \"series_id\", \"step\", \"event\", \"score\"])\n",
    "    return sub_df\n"
   ]
  },
  {
   "cell_type": "code",
   "execution_count": null,
   "metadata": {},
   "outputs": [],
   "source": [
    "#| hide\n",
    "import nbdev; nbdev.nbdev_export()"
   ]
  },
  {
   "cell_type": "code",
   "execution_count": null,
   "metadata": {},
   "outputs": [],
   "source": []
  }
 ],
 "metadata": {
  "kernelspec": {
   "display_name": "python3",
   "language": "python",
   "name": "python3"
  }
 },
 "nbformat": 4,
 "nbformat_minor": 4
}
