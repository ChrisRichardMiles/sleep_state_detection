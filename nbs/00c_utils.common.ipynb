{
 "cells": [
  {
   "cell_type": "markdown",
   "id": "489eba8e",
   "metadata": {},
   "source": [
    "# utils.common\n",
    "\n",
    "> Functions used in various pipelines"
   ]
  },
  {
   "cell_type": "code",
   "execution_count": null,
   "id": "454105bb",
   "metadata": {},
   "outputs": [],
   "source": [
    "#| default_exp utils.common"
   ]
  },
  {
   "cell_type": "code",
   "execution_count": null,
   "id": "c296bcb4",
   "metadata": {},
   "outputs": [],
   "source": [
    "#| export \n",
    "import math\n",
    "import os\n",
    "import random\n",
    "import sys\n",
    "import time\n",
    "from contextlib import contextmanager\n",
    "\n",
    "import numpy as np\n",
    "import pandas as pd\n",
    "import psutil"
   ]
  },
  {
   "cell_type": "code",
   "execution_count": null,
   "id": "fcc6514d",
   "metadata": {},
   "outputs": [],
   "source": [
    "#| export \n",
    "@contextmanager\n",
    "def trace(title):\n",
    "    t0 = time.time()\n",
    "    p = psutil.Process(os.getpid())\n",
    "    m0 = p.memory_info().rss / 2.0**30\n",
    "    yield\n",
    "    m1 = p.memory_info().rss / 2.0**30\n",
    "    delta = m1 - m0\n",
    "    sign = \"+\" if delta >= 0 else \"-\"\n",
    "    delta = math.fabs(delta)\n",
    "    print(f\"[{m1:.1f}GB({sign}{delta:.1f}GB):{time.time() - t0:.1f}sec] {title} \", file=sys.stderr)\n",
    "\n",
    "\n",
    "def pad_if_needed(x: np.ndarray, max_len: int, pad_value: float = 0.0) -> np.ndarray:\n",
    "    if len(x) == max_len:\n",
    "        return x\n",
    "    num_pad = max_len - len(x)\n",
    "    n_dim = len(x.shape)\n",
    "    pad_widths = [(0, num_pad)] + [(0, 0) for _ in range(n_dim - 1)]\n",
    "    return np.pad(x, pad_width=pad_widths, mode=\"constant\", constant_values=pad_value)\n",
    "\n",
    "\n",
    "def nearest_valid_size(input_size: int, downsample_rate: int) -> int:\n",
    "    \"\"\"\n",
    "    (x // hop_length) % 32 == 0\n",
    "    を満たすinput_sizeに最も近いxを返す\n",
    "    \"\"\"\n",
    "\n",
    "    while (input_size // downsample_rate) % 32 != 0:\n",
    "        input_size += 1\n",
    "    assert (input_size // downsample_rate) % 32 == 0\n",
    "\n",
    "    return input_size\n",
    "\n",
    "\n",
    "def random_crop(pos: int, duration: int, max_end) -> tuple[int, int]:\n",
    "    \"\"\"Randomly crops with duration length including pos.\n",
    "    However, 0<=start, end<=max_end\n",
    "    \"\"\"\n",
    "    start = random.randint(max(0, pos - duration), min(pos, max_end - duration))\n",
    "    end = start + duration\n",
    "    return start, end\n",
    "\n",
    "\n",
    "def negative_sampling(this_event_df: pd.DataFrame, num_steps: int) -> int:\n",
    "    \"\"\"negative sampling\n",
    "\n",
    "    Args:\n",
    "        this_event_df (pd.DataFrame): event df\n",
    "        num_steps (int): number of steps in this series\n",
    "\n",
    "    Returns:\n",
    "        int: negative sample position\n",
    "    \"\"\"\n",
    "    # onsetとwakupを除いた範囲からランダムにサンプリング\n",
    "    positive_positions = set(this_event_df[[\"onset\", \"wakeup\"]].to_numpy().flatten().tolist())\n",
    "    negative_positions = list(set(range(num_steps)) - positive_positions)\n",
    "    return random.sample(negative_positions, 1)[0]\n",
    "\n",
    "\n",
    "# ref: https://www.kaggle.com/competitions/dfl-bundesliga-data-shootout/discussion/360236#2004730\n",
    "def gaussian_kernel(length: int, sigma: int = 3) -> np.ndarray:\n",
    "    x = np.ogrid[-length : length + 1]\n",
    "    h = np.exp(-(x**2) / (2 * sigma * sigma))  # type: ignore\n",
    "    h[h < np.finfo(h.dtype).eps * h.max()] = 0\n",
    "    return h\n",
    "\n",
    "\n",
    "def gaussian_label(label: np.ndarray, offset: int, sigma: int) -> np.ndarray:\n",
    "    num_events = label.shape[1]\n",
    "    for i in range(num_events):\n",
    "        label[:, i] = np.convolve(label[:, i], gaussian_kernel(offset, sigma), mode=\"same\")\n",
    "\n",
    "    return label"
   ]
  },
  {
   "cell_type": "code",
   "execution_count": null,
   "id": "a47c23fb",
   "metadata": {},
   "outputs": [],
   "source": [
    "#| hide\n",
    "import nbdev; nbdev.nbdev_export()"
   ]
  },
  {
   "cell_type": "code",
   "execution_count": null,
   "id": "5fd108c0",
   "metadata": {},
   "outputs": [],
   "source": []
  }
 ],
 "metadata": {
  "kernelspec": {
   "display_name": "python3",
   "language": "python",
   "name": "python3"
  }
 },
 "nbformat": 4,
 "nbformat_minor": 5
}
