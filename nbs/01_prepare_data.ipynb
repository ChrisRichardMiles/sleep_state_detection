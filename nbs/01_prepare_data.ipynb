{
 "cells": [
  {
   "cell_type": "markdown",
   "id": "b037ceb1",
   "metadata": {},
   "source": [
    "# prepare_data\n",
    "> Code to transform raw data into features"
   ]
  },
  {
   "cell_type": "code",
   "execution_count": null,
   "id": "0d76ba0c",
   "metadata": {},
   "outputs": [],
   "source": [
    "#| default_exp run.prepare_data"
   ]
  },
  {
   "cell_type": "code",
   "execution_count": null,
   "id": "55e5720b",
   "metadata": {},
   "outputs": [],
   "source": [
    "#| export \n",
    "import shutil\n",
    "# from pathlib import Path\n",
    "from fastcore.all import Path\n",
    "\n",
    "import hydra\n",
    "import numpy as np\n",
    "import polars as pl\n",
    "from tqdm import tqdm\n",
    "\n",
    "from sleep_state_detection.conf import PrepareDataConfig\n",
    "from sleep_state_detection.utils.common import trace"
   ]
  },
  {
   "cell_type": "markdown",
   "id": "4e1d852f",
   "metadata": {},
   "source": [
    "## Functions"
   ]
  },
  {
   "cell_type": "code",
   "execution_count": null,
   "id": "9d5fb210",
   "metadata": {},
   "outputs": [],
   "source": [
    "#| export \n",
    "SERIES_SCHEMA = {\n",
    "    \"series_id\": pl.Utf8,\n",
    "    \"step\": pl.UInt32,\n",
    "    \"anglez\": pl.Float32,\n",
    "    \"enmo\": pl.Float32,\n",
    "}\n",
    "\n",
    "\n",
    "FEATURE_NAMES = [\n",
    "    \"anglez\",\n",
    "    \"enmo\",\n",
    "    \"step\",\n",
    "    \"hour_sin\",\n",
    "    \"hour_cos\",\n",
    "    \"month_sin\",\n",
    "    \"month_cos\",\n",
    "    \"minute_sin\",\n",
    "    \"minute_cos\",\n",
    "    \"anglez_sin\",\n",
    "    \"anglez_cos\",\n",
    "    'anglez_diff', \n",
    "    'enmo_diff', \n",
    "    'anglez_diff_rolling_median', \n",
    "    'enmo_diff_rolling_median', \n",
    "    'anglez_diff_rolling_median_reverse', \n",
    "    'enmo_diff_rolling_median_reverse', \n",
    "]\n",
    "\n",
    "ANGLEZ_MEAN = -8.810476\n",
    "ANGLEZ_STD = 35.521877\n",
    "ENMO_MEAN = 0.041315\n",
    "ENMO_STD = 0.101829\n",
    "\n",
    "\n",
    "def to_coord(x: pl.Expr, max_: int, name: str) -> list[pl.Expr]:\n",
    "    rad = 2 * np.pi * (x % max_) / max_\n",
    "    x_sin = rad.sin()\n",
    "    x_cos = rad.cos()\n",
    "\n",
    "    return [x_sin.alias(f\"{name}_sin\"), x_cos.alias(f\"{name}_cos\")]\n",
    "\n",
    "\n",
    "def deg_to_rad(x: pl.Expr) -> pl.Expr:\n",
    "    return np.pi / 180 * x\n",
    "\n",
    "\n",
    "def add_feature(series_df: pl.DataFrame) -> pl.DataFrame:\n",
    "    series_df = (\n",
    "        series_df.with_row_count(\"step\")\n",
    "        .with_columns(\n",
    "            *to_coord(pl.col(\"timestamp\").dt.hour(), 24, \"hour\"), # So the model sees hour 23 as close to 1\n",
    "            *to_coord(pl.col(\"timestamp\").dt.month(), 12, \"month\"), # ... Nov close to Jan\n",
    "            *to_coord(pl.col(\"timestamp\").dt.minute(), 60, \"minute\"), # ... Minute 59 close to 1\n",
    "#             pl.col(\"step\") / pl.count(\"step\"),\n",
    "            pl.col('anglez_rad').sin().alias('anglez_sin'),\n",
    "            pl.col('anglez_rad').cos().alias('anglez_cos'),\n",
    "            pl.col('anglez').diff().fill_null(0).alias('anglez_diff'), \n",
    "            pl.col('enmo').diff().fill_null(0).alias('enmo_diff'), \n",
    "            pl.col('anglez').diff().fill_null(0).rolling_median(5 * 12).alias('anglez_diff_rolling_median'), \n",
    "            pl.col('enmo').diff().fill_null(0).rolling_median(5 * 12).alias('enmo_diff_rolling_median'),\n",
    "            pl.col('anglez').diff().fill_null(0).reverse().rolling_median(5 * 12).alias('anglez_diff_rolling_median_reverse'), \n",
    "            pl.col('enmo').diff().fill_null(0).reverse().rolling_median(5 * 12).alias('enmo_diff_rolling_median_reverse'),\n",
    "        )\n",
    "        .select(\"series_id\", *FEATURE_NAMES)\n",
    "    )\n",
    "    fill_cols = [\n",
    "        'anglez_diff_rolling_median', \n",
    "        'enmo_diff_rolling_median', \n",
    "        'anglez_diff_rolling_median_reverse', \n",
    "        'enmo_diff_rolling_median_reverse',\n",
    "    ]\n",
    "    for col in fill_cols:\n",
    "        mean_value = series_df.select(pl.col(col).mean()).to_numpy()[0, 0]\n",
    "        series_df = series_df.with_columns(pl.col(col).fill_null(pl.lit(mean_value)))\n",
    "    return series_df\n",
    "\n",
    "\n",
    "def save_each_series(this_series_df: pl.DataFrame, columns: list[str], output_dir: Path):\n",
    "    output_dir.mkdir(parents=True, exist_ok=True)\n",
    "\n",
    "    for col_name in columns:\n",
    "        x = this_series_df.get_column(col_name).to_numpy(zero_copy_only=True)\n",
    "        np.save(output_dir / f\"{col_name}.npy\", x)"
   ]
  },
  {
   "cell_type": "markdown",
   "id": "7672c0fd",
   "metadata": {},
   "source": [
    "## Walkthrough of main "
   ]
  },
  {
   "cell_type": "markdown",
   "id": "ccfb7bad",
   "metadata": {},
   "source": [
    "### Load in config"
   ]
  },
  {
   "cell_type": "code",
   "execution_count": null,
   "id": "29051e24",
   "metadata": {},
   "outputs": [
    {
     "data": {
      "text/plain": [
       "{'phase': 'train', 'dir': {'data_dir': '/home/work/sleep/sleep_state_detection/input_small/child-mind-institute-detect-sleep-states', 'processed_dir': '/home/work/sleep/sleep_state_detection/input_small/processed_data', 'output_dir': '/home/work/sleep/sleep_state_detection/input_small/output', 'model_dir': '/home/work/sleep/sleep_state_detection/input_small/output/train', 'sub_dir': './'}}"
      ]
     },
     "execution_count": null,
     "metadata": {},
     "output_type": "execute_result"
    }
   ],
   "source": [
    "with hydra.initialize(config_path=\"../conf\", version_base=\"1.2\"):\n",
    "    cfg = hydra.compose(config_name=\"prepare_data\", overrides=[\"dir=local-small\"])\n",
    "cfg"
   ]
  },
  {
   "cell_type": "code",
   "execution_count": null,
   "id": "05cb96ef",
   "metadata": {},
   "outputs": [
    {
     "data": {
      "text/plain": [
       "Path('/home/work/sleep/sleep_state_detection/input_small/processed_data/train')"
      ]
     },
     "execution_count": null,
     "metadata": {},
     "output_type": "execute_result"
    }
   ],
   "source": [
    "processed_dir: Path = Path(cfg.dir.processed_dir) / cfg.phase\n",
    "processed_dir"
   ]
  },
  {
   "cell_type": "code",
   "execution_count": null,
   "id": "e1ba3fa8",
   "metadata": {},
   "outputs": [
    {
     "name": "stdout",
     "output_type": "stream",
     "text": [
      "Removed train dir: /home/work/sleep/sleep_state_detection/input_small/processed_data/train\n"
     ]
    }
   ],
   "source": [
    "if processed_dir.exists():\n",
    "        shutil.rmtree(processed_dir)\n",
    "        print(f\"Removed {cfg.phase} dir: {processed_dir}\")"
   ]
  },
  {
   "cell_type": "code",
   "execution_count": null,
   "id": "aa621ae2",
   "metadata": {},
   "outputs": [
    {
     "data": {
      "text/plain": [
       "{'data_dir': '/home/work/sleep/sleep_state_detection/input_small/child-mind-institute-detect-sleep-states', 'processed_dir': '/home/work/sleep/sleep_state_detection/input_small/processed_data', 'output_dir': '/home/work/sleep/sleep_state_detection/input_small/output', 'model_dir': '/home/work/sleep/sleep_state_detection/input_small/output/train', 'sub_dir': './'}"
      ]
     },
     "execution_count": null,
     "metadata": {},
     "output_type": "execute_result"
    }
   ],
   "source": [
    "cfg.dir"
   ]
  },
  {
   "cell_type": "markdown",
   "id": "c9b6710b",
   "metadata": {},
   "source": [
    "### Preprocess all series"
   ]
  },
  {
   "cell_type": "code",
   "execution_count": null,
   "id": "b0fdb71d",
   "metadata": {},
   "outputs": [
    {
     "data": {
      "text/plain": [
       "'********** before preprocess********** '"
      ]
     },
     "metadata": {},
     "output_type": "display_data"
    },
    {
     "data": {
      "text/html": [
       "<div><style>\n",
       ".dataframe > thead > tr,\n",
       ".dataframe > tbody > tr {\n",
       "  text-align: right;\n",
       "  white-space: pre-wrap;\n",
       "}\n",
       "</style>\n",
       "<small>shape: (5, 6)</small><table border=\"1\" class=\"dataframe\"><thead><tr><th>series_id</th><th>step</th><th>timestamp</th><th>anglez</th><th>enmo</th><th>__index_level_0__</th></tr><tr><td>str</td><td>u32</td><td>str</td><td>f32</td><td>f32</td><td>i64</td></tr></thead><tbody><tr><td>&quot;038441c925bb&quot;</td><td>0</td><td>&quot;2018-08-14T15:…</td><td>2.6367</td><td>0.0217</td><td>0</td></tr><tr><td>&quot;038441c925bb&quot;</td><td>1</td><td>&quot;2018-08-14T15:…</td><td>2.6368</td><td>0.0215</td><td>1</td></tr><tr><td>&quot;038441c925bb&quot;</td><td>2</td><td>&quot;2018-08-14T15:…</td><td>2.637</td><td>0.0216</td><td>2</td></tr><tr><td>&quot;038441c925bb&quot;</td><td>3</td><td>&quot;2018-08-14T15:…</td><td>2.6368</td><td>0.0213</td><td>3</td></tr><tr><td>&quot;038441c925bb&quot;</td><td>4</td><td>&quot;2018-08-14T15:…</td><td>2.6368</td><td>0.0215</td><td>4</td></tr></tbody></table></div>"
      ],
      "text/plain": [
       "shape: (5, 6)\n",
       "┌──────────────┬──────┬──────────────────────────┬────────┬────────┬───────────────────┐\n",
       "│ series_id    ┆ step ┆ timestamp                ┆ anglez ┆ enmo   ┆ __index_level_0__ │\n",
       "│ ---          ┆ ---  ┆ ---                      ┆ ---    ┆ ---    ┆ ---               │\n",
       "│ str          ┆ u32  ┆ str                      ┆ f32    ┆ f32    ┆ i64               │\n",
       "╞══════════════╪══════╪══════════════════════════╪════════╪════════╪═══════════════════╡\n",
       "│ 038441c925bb ┆ 0    ┆ 2018-08-14T15:30:00-0400 ┆ 2.6367 ┆ 0.0217 ┆ 0                 │\n",
       "│ 038441c925bb ┆ 1    ┆ 2018-08-14T15:30:05-0400 ┆ 2.6368 ┆ 0.0215 ┆ 1                 │\n",
       "│ 038441c925bb ┆ 2    ┆ 2018-08-14T15:30:10-0400 ┆ 2.637  ┆ 0.0216 ┆ 2                 │\n",
       "│ 038441c925bb ┆ 3    ┆ 2018-08-14T15:30:15-0400 ┆ 2.6368 ┆ 0.0213 ┆ 3                 │\n",
       "│ 038441c925bb ┆ 4    ┆ 2018-08-14T15:30:20-0400 ┆ 2.6368 ┆ 0.0215 ┆ 4                 │\n",
       "└──────────────┴──────┴──────────────────────────┴────────┴────────┴───────────────────┘"
      ]
     },
     "metadata": {},
     "output_type": "display_data"
    },
    {
     "data": {
      "text/plain": [
       "'********** after preprocess********** '"
      ]
     },
     "metadata": {},
     "output_type": "display_data"
    },
    {
     "data": {
      "text/html": [
       "<div><style>\n",
       ".dataframe > thead > tr,\n",
       ".dataframe > tbody > tr {\n",
       "  text-align: right;\n",
       "  white-space: pre-wrap;\n",
       "}\n",
       "</style>\n",
       "<small>shape: (5, 5)</small><table border=\"1\" class=\"dataframe\"><thead><tr><th>series_id</th><th>anglez</th><th>enmo</th><th>timestamp</th><th>anglez_rad</th></tr><tr><td>str</td><td>f32</td><td>f32</td><td>datetime[μs, UTC]</td><td>f32</td></tr></thead><tbody><tr><td>&quot;038441c925bb&quot;</td><td>0.322257</td><td>-0.192627</td><td>2018-08-14 19:30:00 UTC</td><td>0.046019</td></tr><tr><td>&quot;038441c925bb&quot;</td><td>0.32226</td><td>-0.194591</td><td>2018-08-14 19:30:05 UTC</td><td>0.046021</td></tr><tr><td>&quot;038441c925bb&quot;</td><td>0.322266</td><td>-0.193609</td><td>2018-08-14 19:30:10 UTC</td><td>0.046024</td></tr><tr><td>&quot;038441c925bb&quot;</td><td>0.32226</td><td>-0.196555</td><td>2018-08-14 19:30:15 UTC</td><td>0.046021</td></tr><tr><td>&quot;038441c925bb&quot;</td><td>0.32226</td><td>-0.194591</td><td>2018-08-14 19:30:20 UTC</td><td>0.046021</td></tr></tbody></table></div>"
      ],
      "text/plain": [
       "shape: (5, 5)\n",
       "┌──────────────┬──────────┬───────────┬─────────────────────────┬────────────┐\n",
       "│ series_id    ┆ anglez   ┆ enmo      ┆ timestamp               ┆ anglez_rad │\n",
       "│ ---          ┆ ---      ┆ ---       ┆ ---                     ┆ ---        │\n",
       "│ str          ┆ f32      ┆ f32       ┆ datetime[μs, UTC]       ┆ f32        │\n",
       "╞══════════════╪══════════╪═══════════╪═════════════════════════╪════════════╡\n",
       "│ 038441c925bb ┆ 0.322257 ┆ -0.192627 ┆ 2018-08-14 19:30:00 UTC ┆ 0.046019   │\n",
       "│ 038441c925bb ┆ 0.32226  ┆ -0.194591 ┆ 2018-08-14 19:30:05 UTC ┆ 0.046021   │\n",
       "│ 038441c925bb ┆ 0.322266 ┆ -0.193609 ┆ 2018-08-14 19:30:10 UTC ┆ 0.046024   │\n",
       "│ 038441c925bb ┆ 0.32226  ┆ -0.196555 ┆ 2018-08-14 19:30:15 UTC ┆ 0.046021   │\n",
       "│ 038441c925bb ┆ 0.32226  ┆ -0.194591 ┆ 2018-08-14 19:30:20 UTC ┆ 0.046021   │\n",
       "└──────────────┴──────────┴───────────┴─────────────────────────┴────────────┘"
      ]
     },
     "metadata": {},
     "output_type": "display_data"
    },
    {
     "name": "stderr",
     "output_type": "stream",
     "text": [
      "[0.6GB(-0.0GB):0.2sec] Load series \n"
     ]
    }
   ],
   "source": [
    "with trace(\"Load series\"):\n",
    "    # scan parquet\n",
    "    if cfg.phase in [\"train\", \"test\"]:\n",
    "        series_lf = pl.scan_parquet(\n",
    "            Path(cfg.dir.data_dir) / f\"{cfg.phase}_series.parquet\",\n",
    "            low_memory=True,\n",
    "        )\n",
    "    elif cfg.phase == \"dev\":\n",
    "        series_lf = pl.scan_parquet(\n",
    "            Path(cfg.dir.processed_dir) / f\"{cfg.phase}_series.parquet\",\n",
    "            low_memory=True,\n",
    "        )\n",
    "    else:\n",
    "        raise ValueError(f\"Invalid phase: {cfg.phase}\")\n",
    "    display('********** before preprocess********** ', series_lf.collect().head()) ################ First look \n",
    "\n",
    "    # preprocess\n",
    "    series_df = (\n",
    "        series_lf.with_columns(\n",
    "            pl.col(\"timestamp\").str.to_datetime(\"%Y-%m-%dT%H:%M:%S%z\"),\n",
    "            deg_to_rad(pl.col(\"anglez\")).alias(\"anglez_rad\"),\n",
    "            (pl.col(\"anglez\") - ANGLEZ_MEAN) / ANGLEZ_STD,\n",
    "            (pl.col(\"enmo\") - ENMO_MEAN) / ENMO_STD,\n",
    "        )\n",
    "        .select(\n",
    "            [\n",
    "                pl.col(\"series_id\"),\n",
    "                pl.col(\"anglez\"),\n",
    "                pl.col(\"enmo\"),\n",
    "                pl.col(\"timestamp\"),\n",
    "                pl.col(\"anglez_rad\"),\n",
    "            ]\n",
    "        )\n",
    "        .collect(streaming=True)\n",
    "        .sort(by=[\"series_id\", \"timestamp\"])\n",
    "    )\n",
    "    display('********** after preprocess********** ', series_df.head()) ################################ Second look\n",
    "    n_unique = series_df.get_column(\"series_id\").n_unique()"
   ]
  },
  {
   "cell_type": "markdown",
   "id": "31bbf461",
   "metadata": {},
   "source": [
    "### Add features and save each series separately"
   ]
  },
  {
   "cell_type": "code",
   "execution_count": null,
   "id": "f02d1392",
   "metadata": {},
   "outputs": [
    {
     "name": "stderr",
     "output_type": "stream",
     "text": [
      "\r",
      "  0%|                                                                                             | 0/1 [00:00<?, ?it/s]"
     ]
    },
    {
     "data": {
      "text/plain": [
       "'************** series before `add_feature`**************'"
      ]
     },
     "metadata": {},
     "output_type": "display_data"
    },
    {
     "data": {
      "text/html": [
       "<div><style>\n",
       ".dataframe > thead > tr,\n",
       ".dataframe > tbody > tr {\n",
       "  text-align: right;\n",
       "  white-space: pre-wrap;\n",
       "}\n",
       "</style>\n",
       "<small>shape: (389_880, 5)</small><table border=\"1\" class=\"dataframe\"><thead><tr><th>series_id</th><th>anglez</th><th>enmo</th><th>timestamp</th><th>anglez_rad</th></tr><tr><td>str</td><td>f32</td><td>f32</td><td>datetime[μs, UTC]</td><td>f32</td></tr></thead><tbody><tr><td>&quot;038441c925bb&quot;</td><td>0.322257</td><td>-0.192627</td><td>2018-08-14 19:30:00 UTC</td><td>0.046019</td></tr><tr><td>&quot;038441c925bb&quot;</td><td>0.32226</td><td>-0.194591</td><td>2018-08-14 19:30:05 UTC</td><td>0.046021</td></tr><tr><td>&quot;038441c925bb&quot;</td><td>0.322266</td><td>-0.193609</td><td>2018-08-14 19:30:10 UTC</td><td>0.046024</td></tr><tr><td>&quot;038441c925bb&quot;</td><td>0.32226</td><td>-0.196555</td><td>2018-08-14 19:30:15 UTC</td><td>0.046021</td></tr><tr><td>&quot;038441c925bb&quot;</td><td>0.32226</td><td>-0.194591</td><td>2018-08-14 19:30:20 UTC</td><td>0.046021</td></tr><tr><td>&quot;038441c925bb&quot;</td><td>0.322257</td><td>-0.192627</td><td>2018-08-14 19:30:25 UTC</td><td>0.046019</td></tr><tr><td>&quot;038441c925bb&quot;</td><td>0.322257</td><td>-0.192627</td><td>2018-08-14 19:30:30 UTC</td><td>0.046019</td></tr><tr><td>&quot;038441c925bb&quot;</td><td>0.322257</td><td>-0.191645</td><td>2018-08-14 19:30:35 UTC</td><td>0.046019</td></tr><tr><td>&quot;038441c925bb&quot;</td><td>0.326798</td><td>-0.186735</td><td>2018-08-14 19:30:40 UTC</td><td>0.048834</td></tr><tr><td>&quot;038441c925bb&quot;</td><td>0.334869</td><td>-0.192627</td><td>2018-08-14 19:30:45 UTC</td><td>0.053838</td></tr><tr><td>&quot;038441c925bb&quot;</td><td>0.326297</td><td>-0.180842</td><td>2018-08-14 19:30:50 UTC</td><td>0.048524</td></tr><tr><td>&quot;038441c925bb&quot;</td><td>0.318986</td><td>-0.193609</td><td>2018-08-14 19:30:55 UTC</td><td>0.043991</td></tr><tr><td>&hellip;</td><td>&hellip;</td><td>&hellip;</td><td>&hellip;</td><td>&hellip;</td></tr><tr><td>&quot;038441c925bb&quot;</td><td>-0.520136</td><td>-0.230926</td><td>2018-09-06 08:59:00 UTC</td><td>-0.476243</td></tr><tr><td>&quot;038441c925bb&quot;</td><td>-0.529249</td><td>-0.22307</td><td>2018-09-06 08:59:05 UTC</td><td>-0.481892</td></tr><tr><td>&quot;038441c925bb&quot;</td><td>-0.49357</td><td>-0.258423</td><td>2018-09-06 08:59:10 UTC</td><td>-0.459772</td></tr><tr><td>&quot;038441c925bb&quot;</td><td>-0.522014</td><td>-0.274136</td><td>2018-09-06 08:59:15 UTC</td><td>-0.477407</td></tr><tr><td>&quot;038441c925bb&quot;</td><td>-0.583278</td><td>-0.281992</td><td>2018-09-06 08:59:20 UTC</td><td>-0.515389</td></tr><tr><td>&quot;038441c925bb&quot;</td><td>-0.532042</td><td>-0.274136</td><td>2018-09-06 08:59:25 UTC</td><td>-0.483624</td></tr><tr><td>&quot;038441c925bb&quot;</td><td>-0.512065</td><td>-0.290831</td><td>2018-09-06 08:59:30 UTC</td><td>-0.471239</td></tr><tr><td>&quot;038441c925bb&quot;</td><td>-0.522591</td><td>-0.297705</td><td>2018-09-06 08:59:35 UTC</td><td>-0.477765</td></tr><tr><td>&quot;038441c925bb&quot;</td><td>-0.525967</td><td>-0.297705</td><td>2018-09-06 08:59:40 UTC</td><td>-0.479857</td></tr><tr><td>&quot;038441c925bb&quot;</td><td>-0.52709</td><td>-0.296723</td><td>2018-09-06 08:59:45 UTC</td><td>-0.480554</td></tr><tr><td>&quot;038441c925bb&quot;</td><td>-0.540318</td><td>-0.296723</td><td>2018-09-06 08:59:50 UTC</td><td>-0.488755</td></tr><tr><td>&quot;038441c925bb&quot;</td><td>-0.558704</td><td>-0.282974</td><td>2018-09-06 08:59:55 UTC</td><td>-0.500154</td></tr></tbody></table></div>"
      ],
      "text/plain": [
       "shape: (389_880, 5)\n",
       "┌──────────────┬───────────┬───────────┬─────────────────────────┬────────────┐\n",
       "│ series_id    ┆ anglez    ┆ enmo      ┆ timestamp               ┆ anglez_rad │\n",
       "│ ---          ┆ ---       ┆ ---       ┆ ---                     ┆ ---        │\n",
       "│ str          ┆ f32       ┆ f32       ┆ datetime[μs, UTC]       ┆ f32        │\n",
       "╞══════════════╪═══════════╪═══════════╪═════════════════════════╪════════════╡\n",
       "│ 038441c925bb ┆ 0.322257  ┆ -0.192627 ┆ 2018-08-14 19:30:00 UTC ┆ 0.046019   │\n",
       "│ 038441c925bb ┆ 0.32226   ┆ -0.194591 ┆ 2018-08-14 19:30:05 UTC ┆ 0.046021   │\n",
       "│ 038441c925bb ┆ 0.322266  ┆ -0.193609 ┆ 2018-08-14 19:30:10 UTC ┆ 0.046024   │\n",
       "│ 038441c925bb ┆ 0.32226   ┆ -0.196555 ┆ 2018-08-14 19:30:15 UTC ┆ 0.046021   │\n",
       "│ …            ┆ …         ┆ …         ┆ …                       ┆ …          │\n",
       "│ 038441c925bb ┆ -0.525967 ┆ -0.297705 ┆ 2018-09-06 08:59:40 UTC ┆ -0.479857  │\n",
       "│ 038441c925bb ┆ -0.52709  ┆ -0.296723 ┆ 2018-09-06 08:59:45 UTC ┆ -0.480554  │\n",
       "│ 038441c925bb ┆ -0.540318 ┆ -0.296723 ┆ 2018-09-06 08:59:50 UTC ┆ -0.488755  │\n",
       "│ 038441c925bb ┆ -0.558704 ┆ -0.282974 ┆ 2018-09-06 08:59:55 UTC ┆ -0.500154  │\n",
       "└──────────────┴───────────┴───────────┴─────────────────────────┴────────────┘"
      ]
     },
     "metadata": {},
     "output_type": "display_data"
    },
    {
     "data": {
      "text/plain": [
       "'************** series after `add_feature`**************'"
      ]
     },
     "metadata": {},
     "output_type": "display_data"
    },
    {
     "data": {
      "text/html": [
       "<div><style>\n",
       ".dataframe > thead > tr,\n",
       ".dataframe > tbody > tr {\n",
       "  text-align: right;\n",
       "  white-space: pre-wrap;\n",
       "}\n",
       "</style>\n",
       "<small>shape: (389_880, 18)</small><table border=\"1\" class=\"dataframe\"><thead><tr><th>series_id</th><th>anglez</th><th>enmo</th><th>step</th><th>hour_sin</th><th>hour_cos</th><th>month_sin</th><th>month_cos</th><th>minute_sin</th><th>minute_cos</th><th>anglez_sin</th><th>anglez_cos</th><th>anglez_diff</th><th>enmo_diff</th><th>anglez_diff_rolling_median</th><th>enmo_diff_rolling_median</th><th>anglez_diff_rolling_median_reverse</th><th>enmo_diff_rolling_median_reverse</th></tr><tr><td>str</td><td>f32</td><td>f32</td><td>u32</td><td>f64</td><td>f64</td><td>f64</td><td>f64</td><td>f64</td><td>f64</td><td>f32</td><td>f32</td><td>f32</td><td>f32</td><td>f32</td><td>f32</td><td>f32</td><td>f32</td></tr></thead><tbody><tr><td>&quot;038441c925bb&quot;</td><td>0.322257</td><td>-0.192627</td><td>0</td><td>-0.965926</td><td>0.258819</td><td>-0.866025</td><td>-0.5</td><td>5.6655e-16</td><td>-1.0</td><td>0.046003</td><td>0.998941</td><td>0.0</td><td>0.0</td><td>0.000999</td><td>-0.001618</td><td>0.000999</td><td>-0.001618</td></tr><tr><td>&quot;038441c925bb&quot;</td><td>0.32226</td><td>-0.194591</td><td>1</td><td>-0.965926</td><td>0.258819</td><td>-0.866025</td><td>-0.5</td><td>5.6655e-16</td><td>-1.0</td><td>0.046005</td><td>0.998941</td><td>0.000003</td><td>-0.001964</td><td>0.000999</td><td>-0.001618</td><td>0.000999</td><td>-0.001618</td></tr><tr><td>&quot;038441c925bb&quot;</td><td>0.322266</td><td>-0.193609</td><td>2</td><td>-0.965926</td><td>0.258819</td><td>-0.866025</td><td>-0.5</td><td>5.6655e-16</td><td>-1.0</td><td>0.046008</td><td>0.998941</td><td>0.000006</td><td>0.000982</td><td>0.000999</td><td>-0.001618</td><td>0.000999</td><td>-0.001618</td></tr><tr><td>&quot;038441c925bb&quot;</td><td>0.32226</td><td>-0.196555</td><td>3</td><td>-0.965926</td><td>0.258819</td><td>-0.866025</td><td>-0.5</td><td>5.6655e-16</td><td>-1.0</td><td>0.046005</td><td>0.998941</td><td>-0.000006</td><td>-0.002946</td><td>0.000999</td><td>-0.001618</td><td>0.000999</td><td>-0.001618</td></tr><tr><td>&quot;038441c925bb&quot;</td><td>0.32226</td><td>-0.194591</td><td>4</td><td>-0.965926</td><td>0.258819</td><td>-0.866025</td><td>-0.5</td><td>5.6655e-16</td><td>-1.0</td><td>0.046005</td><td>0.998941</td><td>0.0</td><td>0.001964</td><td>0.000999</td><td>-0.001618</td><td>0.000999</td><td>-0.001618</td></tr><tr><td>&quot;038441c925bb&quot;</td><td>0.322257</td><td>-0.192627</td><td>5</td><td>-0.965926</td><td>0.258819</td><td>-0.866025</td><td>-0.5</td><td>5.6655e-16</td><td>-1.0</td><td>0.046003</td><td>0.998941</td><td>-0.000003</td><td>0.001964</td><td>0.000999</td><td>-0.001618</td><td>0.000999</td><td>-0.001618</td></tr><tr><td>&quot;038441c925bb&quot;</td><td>0.322257</td><td>-0.192627</td><td>6</td><td>-0.965926</td><td>0.258819</td><td>-0.866025</td><td>-0.5</td><td>5.6655e-16</td><td>-1.0</td><td>0.046003</td><td>0.998941</td><td>0.0</td><td>0.0</td><td>0.000999</td><td>-0.001618</td><td>0.000999</td><td>-0.001618</td></tr><tr><td>&quot;038441c925bb&quot;</td><td>0.322257</td><td>-0.191645</td><td>7</td><td>-0.965926</td><td>0.258819</td><td>-0.866025</td><td>-0.5</td><td>5.6655e-16</td><td>-1.0</td><td>0.046003</td><td>0.998941</td><td>0.0</td><td>0.000982</td><td>0.000999</td><td>-0.001618</td><td>0.000999</td><td>-0.001618</td></tr><tr><td>&quot;038441c925bb&quot;</td><td>0.326798</td><td>-0.186735</td><td>8</td><td>-0.965926</td><td>0.258819</td><td>-0.866025</td><td>-0.5</td><td>5.6655e-16</td><td>-1.0</td><td>0.048815</td><td>0.998808</td><td>0.004541</td><td>0.00491</td><td>0.000999</td><td>-0.001618</td><td>0.000999</td><td>-0.001618</td></tr><tr><td>&quot;038441c925bb&quot;</td><td>0.334869</td><td>-0.192627</td><td>9</td><td>-0.965926</td><td>0.258819</td><td>-0.866025</td><td>-0.5</td><td>5.6655e-16</td><td>-1.0</td><td>0.053812</td><td>0.998551</td><td>0.008071</td><td>-0.005892</td><td>0.000999</td><td>-0.001618</td><td>0.000999</td><td>-0.001618</td></tr><tr><td>&quot;038441c925bb&quot;</td><td>0.326297</td><td>-0.180842</td><td>10</td><td>-0.965926</td><td>0.258819</td><td>-0.866025</td><td>-0.5</td><td>5.6655e-16</td><td>-1.0</td><td>0.048505</td><td>0.998823</td><td>-0.008572</td><td>0.011784</td><td>0.000999</td><td>-0.001618</td><td>0.000999</td><td>-0.001618</td></tr><tr><td>&quot;038441c925bb&quot;</td><td>0.318986</td><td>-0.193609</td><td>11</td><td>-0.965926</td><td>0.258819</td><td>-0.866025</td><td>-0.5</td><td>5.6655e-16</td><td>-1.0</td><td>0.043977</td><td>0.999033</td><td>-0.007311</td><td>-0.012766</td><td>0.000999</td><td>-0.001618</td><td>0.000999</td><td>-0.001618</td></tr><tr><td>&hellip;</td><td>&hellip;</td><td>&hellip;</td><td>&hellip;</td><td>&hellip;</td><td>&hellip;</td><td>&hellip;</td><td>&hellip;</td><td>&hellip;</td><td>&hellip;</td><td>&hellip;</td><td>&hellip;</td><td>&hellip;</td><td>&hellip;</td><td>&hellip;</td><td>&hellip;</td><td>&hellip;</td><td>&hellip;</td></tr><tr><td>&quot;038441c925bb&quot;</td><td>-0.520136</td><td>-0.230926</td><td>389868</td><td>0.866025</td><td>-0.5</td><td>-1.0</td><td>-1.8370e-16</td><td>-0.104528</td><td>0.994522</td><td>-0.458443</td><td>0.888724</td><td>0.004496</td><td>0.060886</td><td>-0.000158</td><td>-0.000982</td><td>-0.000007</td><td>0.0</td></tr><tr><td>&quot;038441c925bb&quot;</td><td>-0.529249</td><td>-0.22307</td><td>389869</td><td>0.866025</td><td>-0.5</td><td>-1.0</td><td>-1.8370e-16</td><td>-0.104528</td><td>0.994522</td><td>-0.463457</td><td>0.886119</td><td>-0.009113</td><td>0.007856</td><td>-0.00039</td><td>-0.000982</td><td>-0.000007</td><td>0.000491</td></tr><tr><td>&quot;038441c925bb&quot;</td><td>-0.49357</td><td>-0.258423</td><td>389870</td><td>0.866025</td><td>-0.5</td><td>-1.0</td><td>-1.8370e-16</td><td>-0.104528</td><td>0.994522</td><td>-0.443744</td><td>0.896154</td><td>0.035679</td><td>-0.035353</td><td>-0.000158</td><td>-0.000982</td><td>-0.000007</td><td>0.0</td></tr><tr><td>&quot;038441c925bb&quot;</td><td>-0.522014</td><td>-0.274136</td><td>389871</td><td>0.866025</td><td>-0.5</td><td>-1.0</td><td>-1.8370e-16</td><td>-0.104528</td><td>0.994522</td><td>-0.459478</td><td>0.888189</td><td>-0.028444</td><td>-0.015713</td><td>-0.000158</td><td>-0.000982</td><td>0.0</td><td>0.000491</td></tr><tr><td>&quot;038441c925bb&quot;</td><td>-0.583278</td><td>-0.281992</td><td>389872</td><td>0.866025</td><td>-0.5</td><td>-1.0</td><td>-1.8370e-16</td><td>-0.104528</td><td>0.994522</td><td>-0.492873</td><td>0.870101</td><td>-0.061264</td><td>-0.007856</td><td>-0.000158</td><td>-0.000982</td><td>0.0</td><td>0.000982</td></tr><tr><td>&quot;038441c925bb&quot;</td><td>-0.532042</td><td>-0.274136</td><td>389873</td><td>0.866025</td><td>-0.5</td><td>-1.0</td><td>-1.8370e-16</td><td>-0.104528</td><td>0.994522</td><td>-0.46499</td><td>0.885316</td><td>0.051236</td><td>0.007856</td><td>0.000145</td><td>-0.000982</td><td>0.0</td><td>0.000982</td></tr><tr><td>&quot;038441c925bb&quot;</td><td>-0.512065</td><td>-0.290831</td><td>389874</td><td>0.866025</td><td>-0.5</td><td>-1.0</td><td>-1.8370e-16</td><td>-0.104528</td><td>0.994522</td><td>-0.45399</td><td>0.891007</td><td>0.019976</td><td>-0.016695</td><td>0.00051</td><td>-0.000982</td><td>0.0</td><td>0.000982</td></tr><tr><td>&quot;038441c925bb&quot;</td><td>-0.522591</td><td>-0.297705</td><td>389875</td><td>0.866025</td><td>-0.5</td><td>-1.0</td><td>-1.8370e-16</td><td>-0.104528</td><td>0.994522</td><td>-0.459795</td><td>0.888025</td><td>-0.010526</td><td>-0.006874</td><td>0.00051</td><td>-0.000982</td><td>0.0</td><td>0.000982</td></tr><tr><td>&quot;038441c925bb&quot;</td><td>-0.525967</td><td>-0.297705</td><td>389876</td><td>0.866025</td><td>-0.5</td><td>-1.0</td><td>-1.8370e-16</td><td>-0.104528</td><td>0.994522</td><td>-0.461653</td><td>0.887061</td><td>-0.003375</td><td>0.0</td><td>0.00051</td><td>-0.000982</td><td>0.0</td><td>0.000982</td></tr><tr><td>&quot;038441c925bb&quot;</td><td>-0.52709</td><td>-0.296723</td><td>389877</td><td>0.866025</td><td>-0.5</td><td>-1.0</td><td>-1.8370e-16</td><td>-0.104528</td><td>0.994522</td><td>-0.46227</td><td>0.886739</td><td>-0.001123</td><td>0.000982</td><td>0.000145</td><td>-0.000982</td><td>0.0</td><td>0.000982</td></tr><tr><td>&quot;038441c925bb&quot;</td><td>-0.540318</td><td>-0.296723</td><td>389878</td><td>0.866025</td><td>-0.5</td><td>-1.0</td><td>-1.8370e-16</td><td>-0.104528</td><td>0.994522</td><td>-0.469527</td><td>0.882918</td><td>-0.013228</td><td>0.0</td><td>-0.000158</td><td>-0.000982</td><td>0.0</td><td>0.000982</td></tr><tr><td>&quot;038441c925bb&quot;</td><td>-0.558704</td><td>-0.282974</td><td>389879</td><td>0.866025</td><td>-0.5</td><td>-1.0</td><td>-1.8370e-16</td><td>-0.104528</td><td>0.994522</td><td>-0.47956</td><td>0.877509</td><td>-0.018386</td><td>0.013749</td><td>-0.000441</td><td>-0.000491</td><td>0.0</td><td>0.000982</td></tr></tbody></table></div>"
      ],
      "text/plain": [
       "shape: (389_880, 18)\n",
       "┌────────────┬───────────┬───────────┬────────┬───┬────────────┬───────────┬───────────┬───────────┐\n",
       "│ series_id  ┆ anglez    ┆ enmo      ┆ step   ┆ … ┆ anglez_dif ┆ enmo_diff ┆ anglez_di ┆ enmo_diff │\n",
       "│ ---        ┆ ---       ┆ ---       ┆ ---    ┆   ┆ f_rolling_ ┆ _rolling_ ┆ ff_rollin ┆ _rolling_ │\n",
       "│ str        ┆ f32       ┆ f32       ┆ u32    ┆   ┆ median     ┆ median    ┆ g_median_ ┆ median_re │\n",
       "│            ┆           ┆           ┆        ┆   ┆ ---        ┆ ---       ┆ rever…    ┆ verse     │\n",
       "│            ┆           ┆           ┆        ┆   ┆ f32        ┆ f32       ┆ ---       ┆ ---       │\n",
       "│            ┆           ┆           ┆        ┆   ┆            ┆           ┆ f32       ┆ f32       │\n",
       "╞════════════╪═══════════╪═══════════╪════════╪═══╪════════════╪═══════════╪═══════════╪═══════════╡\n",
       "│ 038441c925 ┆ 0.322257  ┆ -0.192627 ┆ 0      ┆ … ┆ 0.000999   ┆ -0.001618 ┆ 0.000999  ┆ -0.001618 │\n",
       "│ bb         ┆           ┆           ┆        ┆   ┆            ┆           ┆           ┆           │\n",
       "│ 038441c925 ┆ 0.32226   ┆ -0.194591 ┆ 1      ┆ … ┆ 0.000999   ┆ -0.001618 ┆ 0.000999  ┆ -0.001618 │\n",
       "│ bb         ┆           ┆           ┆        ┆   ┆            ┆           ┆           ┆           │\n",
       "│ 038441c925 ┆ 0.322266  ┆ -0.193609 ┆ 2      ┆ … ┆ 0.000999   ┆ -0.001618 ┆ 0.000999  ┆ -0.001618 │\n",
       "│ bb         ┆           ┆           ┆        ┆   ┆            ┆           ┆           ┆           │\n",
       "│ 038441c925 ┆ 0.32226   ┆ -0.196555 ┆ 3      ┆ … ┆ 0.000999   ┆ -0.001618 ┆ 0.000999  ┆ -0.001618 │\n",
       "│ bb         ┆           ┆           ┆        ┆   ┆            ┆           ┆           ┆           │\n",
       "│ …          ┆ …         ┆ …         ┆ …      ┆ … ┆ …          ┆ …         ┆ …         ┆ …         │\n",
       "│ 038441c925 ┆ -0.525967 ┆ -0.297705 ┆ 389876 ┆ … ┆ 0.00051    ┆ -0.000982 ┆ 0.0       ┆ 0.000982  │\n",
       "│ bb         ┆           ┆           ┆        ┆   ┆            ┆           ┆           ┆           │\n",
       "│ 038441c925 ┆ -0.52709  ┆ -0.296723 ┆ 389877 ┆ … ┆ 0.000145   ┆ -0.000982 ┆ 0.0       ┆ 0.000982  │\n",
       "│ bb         ┆           ┆           ┆        ┆   ┆            ┆           ┆           ┆           │\n",
       "│ 038441c925 ┆ -0.540318 ┆ -0.296723 ┆ 389878 ┆ … ┆ -0.000158  ┆ -0.000982 ┆ 0.0       ┆ 0.000982  │\n",
       "│ bb         ┆           ┆           ┆        ┆   ┆            ┆           ┆           ┆           │\n",
       "│ 038441c925 ┆ -0.558704 ┆ -0.282974 ┆ 389879 ┆ … ┆ -0.000441  ┆ -0.000491 ┆ 0.0       ┆ 0.000982  │\n",
       "│ bb         ┆           ┆           ┆        ┆   ┆            ┆           ┆           ┆           │\n",
       "└────────────┴───────────┴───────────┴────────┴───┴────────────┴───────────┴───────────┴───────────┘"
      ]
     },
     "metadata": {},
     "output_type": "display_data"
    },
    {
     "name": "stderr",
     "output_type": "stream",
     "text": [
      "100%|█████████████████████████████████████████████████████████████████████████████████████| 1/1 [00:00<00:00,  4.67it/s]\n",
      "[0.6GB(+0.0GB):0.2sec] Save features \n"
     ]
    }
   ],
   "source": [
    "with trace(\"Save features\"):\n",
    "    for series_id, this_series_df in tqdm(series_df.group_by(\"series_id\"), total=n_unique):\n",
    "        # 特徴量を追加\n",
    "        display('************** series before `add_feature`**************', this_series_df)\n",
    "        this_series_df = add_feature(this_series_df)\n",
    "        display('************** series after `add_feature`**************', this_series_df)\n",
    "        # 特徴量をそれぞれnpyで保存\n",
    "        series_dir = processed_dir / series_id  # type: ignore\n",
    "        save_each_series(this_series_df, FEATURE_NAMES, series_dir)"
   ]
  },
  {
   "cell_type": "markdown",
   "id": "09be5ae0",
   "metadata": {},
   "source": [
    "### Processed data folder examination\n",
    " * One folder for each series_id\n",
    " * For each series_id folder, we have a separate numpy file for each feature"
   ]
  },
  {
   "cell_type": "code",
   "execution_count": null,
   "id": "b66f4266",
   "metadata": {},
   "outputs": [
    {
     "name": "stdout",
     "output_type": "stream",
     "text": [
      "series_id:  038441c925bb\n"
     ]
    },
    {
     "data": {
      "text/plain": [
       "'Files for this series_id'"
      ]
     },
     "metadata": {},
     "output_type": "display_data"
    },
    {
     "data": {
      "text/plain": [
       "['anglez.npy',\n",
       " 'anglez_cos.npy',\n",
       " 'anglez_diff.npy',\n",
       " 'anglez_diff_rolling_median.npy',\n",
       " 'anglez_diff_rolling_median_reverse.npy',\n",
       " 'anglez_sin.npy',\n",
       " 'enmo.npy',\n",
       " 'enmo_diff.npy',\n",
       " 'enmo_diff_rolling_median.npy',\n",
       " 'enmo_diff_rolling_median_reverse.npy',\n",
       " 'hour_cos.npy',\n",
       " 'hour_sin.npy',\n",
       " 'minute_cos.npy',\n",
       " 'minute_sin.npy',\n",
       " 'month_cos.npy',\n",
       " 'month_sin.npy',\n",
       " 'step.npy']"
      ]
     },
     "metadata": {},
     "output_type": "display_data"
    },
    {
     "data": {
      "text/plain": [
       "'*** numpy file for anglez ***'"
      ]
     },
     "metadata": {},
     "output_type": "display_data"
    },
    {
     "data": {
      "text/plain": [
       "array([ 0.32225707,  0.32225987,  0.32226554, ..., -0.52708995,\n",
       "       -0.54031837, -0.55870426], dtype=float32)"
      ]
     },
     "metadata": {},
     "output_type": "display_data"
    }
   ],
   "source": [
    "for x in processed_dir.ls(): \n",
    "    print('series_id: ', x.stem)\n",
    "    display('Files for this series_id', [x.stem + x.suffix for x in x.ls()])\n",
    "    display('*** numpy file for anglez ***', np.load(processed_dir/'038441c925bb'/'anglez.npy'))"
   ]
  },
  {
   "cell_type": "markdown",
   "id": "3d21dc3b",
   "metadata": {},
   "source": [
    "## Main "
   ]
  },
  {
   "cell_type": "code",
   "execution_count": null,
   "id": "2cff0ae9",
   "metadata": {},
   "outputs": [
    {
     "name": "stderr",
     "output_type": "stream",
     "text": [
      "usage: ipykernel_launcher.py [--help] [--hydra-help] [--version]\n",
      "                             [--cfg {job,hydra,all}] [--resolve]\n",
      "                             [--package PACKAGE] [--run] [--multirun]\n",
      "                             [--shell-completion] [--config-path CONFIG_PATH]\n",
      "                             [--config-name CONFIG_NAME]\n",
      "                             [--config-dir CONFIG_DIR]\n",
      "                             [--experimental-rerun EXPERIMENTAL_RERUN]\n",
      "                             [--info [{all,config,defaults,defaults-tree,plugins,searchpath}]]\n",
      "                             [overrides ...]\n",
      "ipykernel_launcher.py: error: unrecognized arguments: -f\n"
     ]
    },
    {
     "ename": "SystemExit",
     "evalue": "2",
     "output_type": "error",
     "traceback": [
      "An exception has occurred, use %tb to see the full traceback.\n",
      "\u001b[0;31mSystemExit\u001b[0m\u001b[0;31m:\u001b[0m 2\n"
     ]
    },
    {
     "name": "stderr",
     "output_type": "stream",
     "text": [
      "/opt/conda/lib/python3.10/site-packages/IPython/core/interactiveshell.py:3516: UserWarning: To exit: use 'exit', 'quit', or Ctrl-D.\n",
      "  warn(\"To exit: use 'exit', 'quit', or Ctrl-D.\", stacklevel=1)\n"
     ]
    }
   ],
   "source": [
    "#|export \n",
    "#| notest\n",
    "@hydra.main(config_path=\"conf\", config_name=\"prepare_data\", version_base=\"1.2\")\n",
    "def main(cfg: PrepareDataConfig):\n",
    "    processed_dir: Path = Path(cfg.dir.processed_dir) / cfg.phase\n",
    "\n",
    "    # ディレクトリが存在する場合は削除\n",
    "    if processed_dir.exists():\n",
    "        shutil.rmtree(processed_dir)\n",
    "        print(f\"Removed {cfg.phase} dir: {processed_dir}\")\n",
    "\n",
    "    with trace(\"Load series\"):\n",
    "        # scan parquet\n",
    "        if cfg.phase in [\"train\", \"test\"]:\n",
    "            series_lf = pl.scan_parquet(\n",
    "                Path(cfg.dir.data_dir) / f\"{cfg.phase}_series.parquet\",\n",
    "                low_memory=True,\n",
    "            )\n",
    "        elif cfg.phase == \"dev\":\n",
    "            series_lf = pl.scan_parquet(\n",
    "                Path(cfg.dir.processed_dir) / f\"{cfg.phase}_series.parquet\",\n",
    "                low_memory=True,\n",
    "            )\n",
    "        else:\n",
    "            raise ValueError(f\"Invalid phase: {cfg.phase}\")\n",
    "\n",
    "        # preprocess\n",
    "        series_df = (\n",
    "            series_lf.with_columns(\n",
    "                pl.col(\"timestamp\").str.to_datetime(\"%Y-%m-%dT%H:%M:%S%z\"),\n",
    "                deg_to_rad(pl.col(\"anglez\")).alias(\"anglez_rad\"),\n",
    "                (pl.col(\"anglez\") - ANGLEZ_MEAN) / ANGLEZ_STD,\n",
    "                (pl.col(\"enmo\") - ENMO_MEAN) / ENMO_STD,\n",
    "            )\n",
    "            .select(\n",
    "                [\n",
    "                    pl.col(\"series_id\"),\n",
    "                    pl.col(\"anglez\"),\n",
    "                    pl.col(\"enmo\"),\n",
    "                    pl.col(\"timestamp\"),\n",
    "                    pl.col(\"anglez_rad\"),\n",
    "                ]\n",
    "            )\n",
    "            .collect(streaming=True)\n",
    "            .sort(by=[\"series_id\", \"timestamp\"])\n",
    "        )\n",
    "        n_unique = series_df.get_column(\"series_id\").n_unique()\n",
    "    with trace(\"Save features\"):\n",
    "        for series_id, this_series_df in tqdm(series_df.group_by(\"series_id\"), total=n_unique):\n",
    "            # 特徴量を追加\n",
    "            this_series_df = add_feature(this_series_df)\n",
    "\n",
    "            # 特徴量をそれぞれnpyで保存\n",
    "            series_dir = processed_dir / series_id  # type: ignore\n",
    "            save_each_series(this_series_df, FEATURE_NAMES, series_dir)\n",
    "\n",
    "\n",
    "if __name__ == \"__main__\":\n",
    "    main()"
   ]
  },
  {
   "cell_type": "code",
   "execution_count": null,
   "id": "0509e9a7",
   "metadata": {},
   "outputs": [],
   "source": [
    "#| hide\n",
    "import nbdev; nbdev.nbdev_export()"
   ]
  },
  {
   "cell_type": "code",
   "execution_count": null,
   "id": "f20f3f11",
   "metadata": {},
   "outputs": [],
   "source": []
  }
 ],
 "metadata": {
  "kernelspec": {
   "display_name": "python3",
   "language": "python",
   "name": "python3"
  }
 },
 "nbformat": 4,
 "nbformat_minor": 5
}
